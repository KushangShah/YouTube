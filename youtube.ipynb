{
  "nbformat": 4,
  "nbformat_minor": 0,
  "metadata": {
    "colab": {
      "provenance": [],
      "authorship_tag": "ABX9TyPdEzM0POgN7jXudMGEh4Cq",
      "include_colab_link": true
    },
    "kernelspec": {
      "name": "python3",
      "display_name": "Python 3"
    },
    "language_info": {
      "name": "python"
    }
  },
  "cells": [
    {
      "cell_type": "markdown",
      "metadata": {
        "id": "view-in-github",
        "colab_type": "text"
      },
      "source": [
        "<a href=\"https://colab.research.google.com/github/KushangShah/YouTube/blob/main/youtube.ipynb\" target=\"_parent\"><img src=\"https://colab.research.google.com/assets/colab-badge.svg\" alt=\"Open In Colab\"/></a>"
      ]
    },
    {
      "cell_type": "code",
      "execution_count": null,
      "metadata": {
        "colab": {
          "base_uri": "https://localhost:8080/"
        },
        "id": "RSFPOyewDzWI",
        "outputId": "7cf0c0d6-4d84-40e2-faa1-399a9b5982bf"
      },
      "outputs": [
        {
          "output_type": "stream",
          "name": "stdout",
          "text": [
            "Hello, World! \n"
          ]
        }
      ],
      "source": [
        "print(\"Hello, World! \")"
      ]
    },
    {
      "cell_type": "code",
      "source": [
        "from google.colab import drive\n",
        "drive.mount(\"/content/drive\")"
      ],
      "metadata": {
        "colab": {
          "base_uri": "https://localhost:8080/"
        },
        "id": "4f0TL0QnDZgT",
        "outputId": "08acfb91-9f25-4e53-8041-9acbc36b1e5b"
      },
      "execution_count": null,
      "outputs": [
        {
          "output_type": "stream",
          "name": "stdout",
          "text": [
            "Mounted at /content/drive\n"
          ]
        }
      ]
    },
    {
      "cell_type": "code",
      "source": [
        "# prompt: download youtube video using python\n",
        "\n",
        "!pip install pytube\n",
        "\n",
        "from pytube import YouTube\n",
        "\n",
        "# Get the YouTube video URL from the user.\n",
        "video_url = input(\"Enter the YouTube video URL: \")\n",
        "\n",
        "# Create a YouTube object.\n",
        "youtube = YouTube(video_url)\n",
        "\n",
        "# Get the highest resolution video stream.\n",
        "video_stream = youtube.streams.get_highest_resolution()\n",
        "\n",
        "# Download the video to the current directory.\n",
        "video_stream.download(\"/content/drive/MyDrive\")\n",
        "\n",
        "# Print a success message.\n",
        "print(\"Video downloaded successfully!\")\n"
      ],
      "metadata": {
        "colab": {
          "base_uri": "https://localhost:8080/"
        },
        "id": "DUrYHgDVD5Bi",
        "outputId": "a1150826-c779-48a6-9ac4-787db20ae5cf"
      },
      "execution_count": null,
      "outputs": [
        {
          "output_type": "stream",
          "name": "stdout",
          "text": [
            "Collecting pytube\n",
            "  Downloading pytube-15.0.0-py3-none-any.whl (57 kB)\n",
            "\u001b[2K     \u001b[90m━━━━━━━━━━━━━━━━━━━━━━━━━━━━━━━━━━━━━━━━\u001b[0m \u001b[32m57.6/57.6 kB\u001b[0m \u001b[31m462.5 kB/s\u001b[0m eta \u001b[36m0:00:00\u001b[0m\n",
            "\u001b[?25hInstalling collected packages: pytube\n",
            "Successfully installed pytube-15.0.0\n",
            "Enter the YouTube video URL: https://www.youtube.com/watch?v=4591dCHe_sE\n",
            "Video downloaded successfully!\n"
          ]
        }
      ]
    }
  ]
}